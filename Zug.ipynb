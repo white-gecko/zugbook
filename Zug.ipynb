{
 "cells": [
  {
   "cell_type": "code",
   "execution_count": null,
   "id": "ae2dc19b-a0d7-465c-bb71-d70080f835a6",
   "metadata": {},
   "outputs": [],
   "source": [
    "import httpx\n",
    "from pathlib import PosixPath\n",
    "\n",
    "BASE_URL = \"https://iceportal.de\"\n",
    "ICE_API = PosixPath(\"api1\")\n",
    "BAP_API = PosixPath(\"bap/api\")\n",
    "URL_STATUS = ICE_API / \"rs/status\"\n",
    "URL_TRIP = ICE_API / \"rs/tripInfo/trip\"\n",
    "URL_BAP_STATUS = BAP_API / \"bap-service-status\"\n",
    "\n",
    "client = httpx.Client()\n",
    "try:\n",
    "    with httpx.Client(base_url=BASE_URL) as client:\n",
    "        headers = {'Accept': 'application/json'}\n",
    "        r_status = client.get(str(URL_STATUS), headers=headers)\n",
    "        r_trip = client.get(str(URL_TRIP), headers=headers)\n",
    "        r_bap_status = client.get(str(URL_BAP_STATUS), headers=headers)\n",
    "finally:\n",
    "    client.close()\n",
    "\n",
    "status = r_status.json()\n",
    "trip = r_trip.json()\n",
    "bap_status = r_bap_status.json()"
   ]
  },
  {
   "cell_type": "code",
   "execution_count": null,
   "id": "a17f00e9-328d-49a7-8280-7bef0615f061",
   "metadata": {},
   "outputs": [],
   "source": [
    "status"
   ]
  },
  {
   "cell_type": "code",
   "execution_count": null,
   "id": "6477601b-40ac-4d50-9350-4b90771898e5",
   "metadata": {},
   "outputs": [],
   "source": [
    "trip"
   ]
  },
  {
   "cell_type": "code",
   "execution_count": null,
   "id": "8b66a594-85a7-499e-9354-3c2b93d93d6e",
   "metadata": {},
   "outputs": [],
   "source": [
    "bap_status"
   ]
  },
  {
   "cell_type": "code",
   "execution_count": null,
   "id": "a8af6a57-313c-4675-97de-625e42f605ef",
   "metadata": {},
   "outputs": [],
   "source": [
    "import folium\n",
    "\n",
    "m = folium.Map(location=(status[\"latitude\"], status[\"longitude\"]))\n",
    "\n",
    "folium.Marker(\n",
    "    location=[status[\"latitude\"], status[\"longitude\"]],\n",
    "    tooltip=status[\"tzn\"],\n",
    "    popup=f\"{status[\"trainType\"]}\\n Geschwindigkeit: {status[\"speed\"]}\",\n",
    "    icon=folium.Icon(color=\"red\"),\n",
    ").add_to(m)\n",
    "\n",
    "track_coordinates = list([(stop[\"station\"][\"geocoordinates\"][\"latitude\"], stop[\"station\"][\"geocoordinates\"][\"longitude\"]) for stop in trip[\"trip\"][\"stops\"]])\n",
    "\n",
    "folium.PolyLine(track_coordinates, tooltip=\"Track\").add_to(m)\n",
    "\n",
    "m"
   ]
  },
  {
   "cell_type": "code",
   "execution_count": null,
   "id": "23d0512a-c22d-4afa-a338-fc6eab4939e7",
   "metadata": {},
   "outputs": [],
   "source": []
  }
 ],
 "metadata": {
  "kernelspec": {
   "display_name": "Python 3 (ipykernel)",
   "language": "python",
   "name": "python3"
  },
  "language_info": {
   "codemirror_mode": {
    "name": "ipython",
    "version": 3
   },
   "file_extension": ".py",
   "mimetype": "text/x-python",
   "name": "python",
   "nbconvert_exporter": "python",
   "pygments_lexer": "ipython3",
   "version": "3.12.2"
  }
 },
 "nbformat": 4,
 "nbformat_minor": 5
}
